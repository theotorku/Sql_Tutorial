{
 "cells": [
  {
   "cell_type": "code",
   "execution_count": 16,
   "id": "64333899",
   "metadata": {},
   "outputs": [
    {
     "data": {
      "text/plain": [
       "float"
      ]
     },
     "execution_count": 16,
     "metadata": {},
     "output_type": "execute_result"
    }
   ],
   "source": [
    "type(1.2)"
   ]
  },
  {
   "cell_type": "code",
   "execution_count": 42,
   "id": "7afe2ef7",
   "metadata": {},
   "outputs": [
    {
     "data": {
      "text/plain": [
       "list"
      ]
     },
     "execution_count": 42,
     "metadata": {},
     "output_type": "execute_result"
    }
   ],
   "source": [
    "x = [5,3,5,6],[1,4,4,6]\n",
    "y = [3,1,5,6,8]\n",
    "z = 1,1,3,5,3,6,7,8,9\n",
    "\n",
    "type(x)\n",
    "type(z)\n",
    "type(y)"
   ]
  },
  {
   "cell_type": "code",
   "execution_count": 43,
   "id": "fa6cadd8",
   "metadata": {},
   "outputs": [
    {
     "data": {
      "text/plain": [
       "list"
      ]
     },
     "execution_count": 43,
     "metadata": {},
     "output_type": "execute_result"
    }
   ],
   "source": [
    "\n",
    "type(y) "
   ]
  },
  {
   "cell_type": "code",
   "execution_count": 32,
   "id": "c01f7a29",
   "metadata": {},
   "outputs": [
    {
     "data": {
      "text/plain": [
       "tuple"
      ]
     },
     "execution_count": 32,
     "metadata": {},
     "output_type": "execute_result"
    }
   ],
   "source": [
    "x = ['boy','girl','man','woman'],[1,1,22,3,5]\n",
    "type(x)"
   ]
  },
  {
   "cell_type": "code",
   "execution_count": 10,
   "id": "2418f067",
   "metadata": {},
   "outputs": [
    {
     "name": "stdout",
     "output_type": "stream",
     "text": [
      "(1, 2, 3, 4, 5)\n"
     ]
    }
   ],
   "source": []
  },
  {
   "cell_type": "code",
   "execution_count": 11,
   "id": "9badda80",
   "metadata": {},
   "outputs": [
    {
     "name": "stdout",
     "output_type": "stream",
     "text": [
      "(1, 2, 3, 4, 5, 1, 2, 3, 4, 5)\n"
     ]
    }
   ],
   "source": [
    "print(x)"
   ]
  },
  {
   "cell_type": "code",
   "execution_count": 13,
   "id": "cd4f36b0",
   "metadata": {},
   "outputs": [
    {
     "name": "stdout",
     "output_type": "stream",
     "text": [
      "(1, 2, 3, 4, 5)\n"
     ]
    }
   ],
   "source": [
    "print (x)"
   ]
  },
  {
   "cell_type": "code",
   "execution_count": 45,
   "id": "4a203d46",
   "metadata": {},
   "outputs": [
    {
     "name": "stdout",
     "output_type": "stream",
     "text": [
      "its a go\n"
     ]
    }
   ],
   "source": [
    "if 25 > 10:\n",
    "    print ('its a go')\n"
   ]
  },
  {
   "cell_type": "code",
   "execution_count": 46,
   "id": "b0396a08",
   "metadata": {},
   "outputs": [
    {
     "name": "stdout",
     "output_type": "stream",
     "text": [
      "its a go\n"
     ]
    }
   ],
   "source": [
    "if 25 > 10:\n",
    "    print ('its a go')\n",
    "else:\n",
    "    print('no go...')\n",
    "    "
   ]
  },
  {
   "cell_type": "code",
   "execution_count": 47,
   "id": "520c538d",
   "metadata": {},
   "outputs": [
    {
     "name": "stdout",
     "output_type": "stream",
     "text": [
      "no go...\n"
     ]
    }
   ],
   "source": [
    "if 5 > 10:\n",
    "    print ('its a go')\n",
    "else:\n",
    "    print('no go...')\n",
    "    "
   ]
  },
  {
   "cell_type": "code",
   "execution_count": 48,
   "id": "b51e4e8a",
   "metadata": {},
   "outputs": [
    {
     "name": "stdout",
     "output_type": "stream",
     "text": [
      "its a go\n"
     ]
    }
   ],
   "source": [
    " if 25 > 10:\n",
    "    print ('its a go')\n",
    "elif 30 > 10:\n",
    "    print('no go...')\n",
    "else:\n",
    "    print ('danger!!!')\n",
    "    "
   ]
  },
  {
   "cell_type": "code",
   "execution_count": 50,
   "id": "eac63450",
   "metadata": {},
   "outputs": [
    {
     "name": "stdout",
     "output_type": "stream",
     "text": [
      "no go...\n"
     ]
    }
   ],
   "source": [
    " if 5 > 10:\n",
    "    print ('its a go')\n",
    "elif 30 > 10:\n",
    "    print('no go...')\n",
    "else:\n",
    "    print ('danger!!!')"
   ]
  },
  {
   "cell_type": "code",
   "execution_count": 51,
   "id": "4be3b74a",
   "metadata": {},
   "outputs": [
    {
     "name": "stdout",
     "output_type": "stream",
     "text": [
      "danger!!!\n"
     ]
    }
   ],
   "source": [
    " if 5 > 10:\n",
    "    print ('its a go')\n",
    "elif 3 > 10:\n",
    "    print('no go...')\n",
    "else:\n",
    "    print ('danger!!!')"
   ]
  },
  {
   "cell_type": "code",
   "execution_count": 66,
   "id": "bde560d1",
   "metadata": {},
   "outputs": [
    {
     "name": "stdout",
     "output_type": "stream",
     "text": [
      "1\n",
      "2\n",
      "3\n",
      "4\n",
      "5\n"
     ]
    }
   ],
   "source": [
    "#For Loops\n",
    "integers = [1,2,3,4,5]\n",
    "for x in integers:\n",
    "    print (x)"
   ]
  },
  {
   "cell_type": "code",
   "execution_count": 61,
   "id": "081cb808",
   "metadata": {},
   "outputs": [
    {
     "name": "stdout",
     "output_type": "stream",
     "text": [
      "[1, 2, 3, 4, 5]\n",
      "[1, 2, 3, 4, 5]\n",
      "[1, 2, 3, 4, 5]\n",
      "[1, 2, 3, 4, 5]\n",
      "[1, 2, 3, 4, 5]\n"
     ]
    }
   ],
   "source": [
    "x = [1,2,3,4,5] \n",
    "for numbrer in integers:\n",
    "    print (x)"
   ]
  },
  {
   "cell_type": "code",
   "execution_count": 77,
   "id": "ada927e9",
   "metadata": {},
   "outputs": [
    {
     "name": "stdout",
     "output_type": "stream",
     "text": [
      "mexico city is a the capital city of usa\n",
      "dallas is a the capital city of usa\n",
      "rio is a the capital city of usa\n",
      "ontario is a the capital city of usa\n",
      "kinston is a the capital city of usa\n",
      "mexico city is a the capital city of mexico\n",
      "dallas is a the capital city of mexico\n",
      "rio is a the capital city of mexico\n",
      "ontario is a the capital city of mexico\n",
      "kinston is a the capital city of mexico\n",
      "mexico city is a the capital city of brazil\n",
      "dallas is a the capital city of brazil\n",
      "rio is a the capital city of brazil\n",
      "ontario is a the capital city of brazil\n",
      "kinston is a the capital city of brazil\n",
      "mexico city is a the capital city of canada\n",
      "dallas is a the capital city of canada\n",
      "rio is a the capital city of canada\n",
      "ontario is a the capital city of canada\n",
      "kinston is a the capital city of canada\n",
      "mexico city is a the capital city of jamaica\n",
      "dallas is a the capital city of jamaica\n",
      "rio is a the capital city of jamaica\n",
      "ontario is a the capital city of jamaica\n",
      "kinston is a the capital city of jamaica\n"
     ]
    }
   ],
   "source": [
    "country = ['usa', 'mexico', 'brazil', 'canada' ,'jamaica']\n",
    "city = ['mexico city', 'dallas', 'rio' ,'ontario', 'kinston']\n",
    "for x in country:\n",
    "    for y in city:\n",
    "        print(y, 'is a the capital city of', x)\n",
    "    "
   ]
  },
  {
   "cell_type": "code",
   "execution_count": 83,
   "id": "7142707b",
   "metadata": {},
   "outputs": [
    {
     "name": "stdout",
     "output_type": "stream",
     "text": [
      "1\n",
      "2\n",
      "3\n",
      "4\n",
      "5\n"
     ]
    }
   ],
   "source": [
    "#the while loop\n",
    "\n",
    "x = 0\n",
    "while x < 5:\n",
    "    x = x + 1\n",
    "    print (x)"
   ]
  },
  {
   "cell_type": "code",
   "execution_count": null,
   "id": "7e94b52d",
   "metadata": {},
   "outputs": [],
   "source": [
    "# Functions\n"
   ]
  },
  {
   "cell_type": "code",
   "execution_count": 87,
   "id": "b9732ba7",
   "metadata": {},
   "outputs": [
    {
     "ename": "NameError",
     "evalue": "name 'first_funct' is not defined",
     "output_type": "error",
     "traceback": [
      "\u001b[1;31m---------------------------------------------------------------------------\u001b[0m",
      "\u001b[1;31mNameError\u001b[0m                                 Traceback (most recent call last)",
      "Cell \u001b[1;32mIn[87], line 3\u001b[0m\n\u001b[0;32m      1\u001b[0m \u001b[38;5;28;01mdef\u001b[39;00m \u001b[38;5;21mfirst_func\u001b[39m():\n\u001b[0;32m      2\u001b[0m     \u001b[38;5;28mprint\u001b[39m(\u001b[38;5;124m'\u001b[39m\u001b[38;5;124mwe did it\u001b[39m\u001b[38;5;124m'\u001b[39m)\n\u001b[1;32m----> 3\u001b[0m \u001b[43mfirst_funct\u001b[49m()\n",
      "\u001b[1;31mNameError\u001b[0m: name 'first_funct' is not defined"
     ]
    }
   ],
   "source": [
    "def first_func():\n",
    "    print('we did it')\n",
    "first_funct()    "
   ]
  },
  {
   "cell_type": "code",
   "execution_count": 86,
   "id": "7ef7afbc",
   "metadata": {},
   "outputs": [
    {
     "ename": "NameError",
     "evalue": "name 'first_func' is not defined",
     "output_type": "error",
     "traceback": [
      "\u001b[1;31m---------------------------------------------------------------------------\u001b[0m",
      "\u001b[1;31mNameError\u001b[0m                                 Traceback (most recent call last)",
      "Cell \u001b[1;32mIn[86], line 1\u001b[0m\n\u001b[1;32m----> 1\u001b[0m \u001b[43mfirst_func\u001b[49m()\n",
      "\u001b[1;31mNameError\u001b[0m: name 'first_func' is not defined"
     ]
    }
   ],
   "source": [
    "first_func()"
   ]
  },
  {
   "cell_type": "code",
   "execution_count": null,
   "id": "df64f4d9",
   "metadata": {},
   "outputs": [],
   "source": [
    "def first_func():\n",
    "    print('we did it')"
   ]
  },
  {
   "cell_type": "code",
   "execution_count": 88,
   "id": "221c05a9",
   "metadata": {},
   "outputs": [
    {
     "name": "stdout",
     "output_type": "stream",
     "text": [
      "we did it\n"
     ]
    }
   ],
   "source": [
    "first_func()"
   ]
  },
  {
   "cell_type": "code",
   "execution_count": null,
   "id": "06aec84a",
   "metadata": {},
   "outputs": [],
   "source": []
  },
  {
   "cell_type": "code",
   "execution_count": null,
   "id": "bba809eb",
   "metadata": {},
   "outputs": [],
   "source": []
  }
 ],
 "metadata": {
  "kernelspec": {
   "display_name": "Python 3 (ipykernel)",
   "language": "python",
   "name": "python3"
  },
  "language_info": {
   "codemirror_mode": {
    "name": "ipython",
    "version": 3
   },
   "file_extension": ".py",
   "mimetype": "text/x-python",
   "name": "python",
   "nbconvert_exporter": "python",
   "pygments_lexer": "ipython3",
   "version": "3.11.7"
  }
 },
 "nbformat": 4,
 "nbformat_minor": 5
}
